{
 "cells": [
  {
   "cell_type": "code",
   "execution_count": 8,
   "metadata": {},
   "outputs": [],
   "source": [
    "from Notebook import Notebook"
   ]
  },
  {
   "cell_type": "code",
   "execution_count": 10,
   "metadata": {},
   "outputs": [
    {
     "name": "stdout",
     "output_type": "stream",
     "text": [
      "{'cell_type': 'markdown', 'source': ['1.1'], 'metadata': {}}\n",
      "\n",
      "{'cell_type': 'markdown', 'source': ['1.2'], 'metadata': {}}\n"
     ]
    }
   ],
   "source": [
    "\n",
    "#notebook1 '1.ipynb' 包含两个Markdown :\n",
    "# 1.1\n",
    "# 1.2\n",
    "\n",
    "#1.实现类 Notebook，初始化传入文件名（路径）\n",
    "notebook1 = Notebook(\"1.ipynb\")\n",
    "\n",
    "#2.Notebook 类的对象支持用 [n] 取得第 n 个 cell\n",
    "print(notebook1[0])\n",
    "print()\n",
    "print(notebook1[1])"
   ]
  },
  {
   "cell_type": "code",
   "execution_count": 13,
   "metadata": {},
   "outputs": [
    {
     "name": "stdout",
     "output_type": "stream",
     "text": [
      "{'cell_type': 'markdown', 'source': ['2.1'], 'metadata': {}}\n",
      "\n",
      "{'cell_type': 'markdown', 'source': ['2.2'], 'metadata': {}}\n"
     ]
    }
   ],
   "source": [
    "#3.多个 Notebook 对象可以通过 + 符号合并\n",
    "notebook2 = Notebook('2.ipynb')\n",
    "notebook = notebook1+notebook2\n",
    "\n",
    "print(notebook2[0])\n",
    "print()\n",
    "print(notebook2[1])\n",
    "\n",
    "notebook.write('3.ipynb') #将合并后的notebook写入'3.ipynb'"
   ]
  },
  {
   "cell_type": "code",
   "execution_count": 14,
   "metadata": {},
   "outputs": [
    {
     "name": "stdout",
     "output_type": "stream",
     "text": [
      "{'cell_type': 'markdown', 'source': ['1.1'], 'metadata': {}}\n",
      "{'cell_type': 'markdown', 'source': ['1.2'], 'metadata': {}}\n",
      "{'cell_type': 'markdown', 'source': ['2.1'], 'metadata': {}}\n",
      "{'cell_type': 'markdown', 'source': ['2.2'], 'metadata': {}}\n"
     ]
    }
   ],
   "source": [
    "notebook3 = Notebook('3.ipynb')\n",
    "print(notebook3[0])\n",
    "print(notebook3[1])\n",
    "print(notebook3[2])\n",
    "print(notebook3[3])"
   ]
  }
 ],
 "metadata": {
  "kernelspec": {
   "display_name": "Python 3",
   "language": "python",
   "name": "python3"
  },
  "language_info": {
   "codemirror_mode": {
    "name": "ipython",
    "version": 3
   },
   "file_extension": ".py",
   "mimetype": "text/x-python",
   "name": "python",
   "nbconvert_exporter": "python",
   "pygments_lexer": "ipython3",
   "version": "3.5.5"
  }
 },
 "nbformat": 4,
 "nbformat_minor": 2
}
